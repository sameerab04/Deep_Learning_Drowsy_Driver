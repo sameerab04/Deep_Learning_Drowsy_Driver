{
 "cells": [
  {
   "cell_type": "code",
   "execution_count": 1,
   "metadata": {},
   "outputs": [
    {
     "name": "stdout",
     "output_type": "stream",
     "text": [
      "Dataset combination completed.\n"
     ]
    }
   ],
   "source": [
    "import os\n",
    "import shutil\n",
    "import re\n",
    "\n",
    "def combine_datasets(source_dirs, destination_dir):\n",
    "    # Create the destination directory if it doesn't exist\n",
    "    if not os.path.exists(destination_dir):\n",
    "        os.makedirs(destination_dir)\n",
    "\n",
    "    combined_train_labels_file = os.path.join(destination_dir, 'combined_train_labels.txt')\n",
    "    combined_test_labels_file = os.path.join(destination_dir, 'combined_test_labels.txt')\n",
    "\n",
    "    # Function to copy files and directories, overwriting existing ones if needed\n",
    "    def copy_with_overwrite(source, destination):\n",
    "        for root, dirs, files in os.walk(source):\n",
    "            for file in files:\n",
    "                if \".DS_Store\" not in os.path.join(root, file):  # Skip files with .DS_Store in their path\n",
    "                    source_path = os.path.join(root, file)\n",
    "                    relative_path = os.path.relpath(source_path, source)\n",
    "                    destination_path = os.path.join(destination, relative_path)\n",
    "                    destination_dir = os.path.dirname(destination_path)\n",
    "                    os.makedirs(destination_dir, exist_ok=True)\n",
    "                    shutil.copy2(source_path, destination_path)\n",
    "\n",
    "    def validate_file_path(file):\n",
    "        # Define the pattern to match the desired format\n",
    "        pattern = r\".*/\\d+/[^/]+\\.v\\d+i\\.yolov\\d+_(train|test)_frame_\\d+_jpg\\.rf\\.[a-f\\d]{16}\\.jpg$\"\n",
    "        return re.match(pattern, file) is not None\n",
    "\n",
    "    with open(combined_train_labels_file, 'w', encoding='utf-8') as combined_train_labels, \\\n",
    "         open(combined_test_labels_file, 'w', encoding='utf-8') as combined_test_labels:\n",
    "        \n",
    "        for source_dir in source_dirs:\n",
    "            # Merge train label files\n",
    "            train_label_source = os.path.join(source_dir, 'train/labels')\n",
    "            train_label_files = os.listdir(train_label_source)\n",
    "            for label_file in train_label_files:\n",
    "                if \".DS_Store\" not in label_file:  # Skip label files with .DS_Store in their name\n",
    "                    image_name, _ = os.path.splitext(label_file)\n",
    "                    image_path = f\"{image_name}.jpg\"  # Adjust the image path to match the label path\n",
    "                    with open(os.path.join(train_label_source, label_file), 'r', encoding='latin-1') as f:\n",
    "                        lines = f.readlines()\n",
    "                        for line in lines:\n",
    "                            # Write the image path followed by the remaining columns\n",
    "                            combined_train_labels.write(f\"{image_path} {line.strip()}\\n\")\n",
    "\n",
    "            # Merge test label files\n",
    "            test_label_source = os.path.join(source_dir, 'test/labels')\n",
    "            test_label_files = os.listdir(test_label_source)\n",
    "            for label_file in test_label_files:\n",
    "                if \".DS_Store\" not in label_file:  # Skip label files with .DS_Store in their name\n",
    "                    image_name, _ = os.path.splitext(label_file)\n",
    "                    image_path = f\"{image_name}.jpg\"  # Adjust the image path to match the label path\n",
    "                    with open(os.path.join(test_label_source, label_file), 'r', encoding='latin-1') as f:\n",
    "                        lines = f.readlines()\n",
    "                        for line in lines:\n",
    "                            # Write the image path followed by the remaining columns\n",
    "                            combined_test_labels.write(f\"{image_path} {line.strip()}\\n\")\n",
    "\n",
    "            # Copy train image files\n",
    "            train_image_source = os.path.join(source_dir, 'train/images')\n",
    "            train_image_destination = os.path.join(destination_dir, 'train/images')\n",
    "            copy_with_overwrite(train_image_source, train_image_destination)\n",
    "\n",
    "            # Copy test image files\n",
    "            test_image_source = os.path.join(source_dir, 'test/images')\n",
    "            test_image_destination = os.path.join(destination_dir, 'test/images')\n",
    "            copy_with_overwrite(test_image_source, test_image_destination)\n",
    "\n",
    "    print(\"Dataset combination completed.\")\n",
    "\n",
    "# Example usage:\n",
    "source_dirs = [\"../../Drowsey_Driver_DL_Data/data_objectclassificaiton/1/dl_project.v1i.yolov8\", \"../../Drowsey_Driver_DL_Data/data_objectclassificaiton/2/DrowsyDriverDetection.v1i.yolov8\",\n",
    "              \"../../Drowsey_Driver_DL_Data/data_objectclassificaiton/3/dl_images.v1i.yolov8\", \"../../Drowsey_Driver_DL_Data/data_objectclassificaiton/4\"]\n",
    "destination_dir = '../../Drowsey_Driver_DL_Data/combined_classification_dataset'\n",
    "combine_datasets(source_dirs, destination_dir)\n"
   ]
  },
  {
   "cell_type": "code",
   "execution_count": 2,
   "metadata": {},
   "outputs": [
    {
     "name": "stdout",
     "output_type": "stream",
     "text": [
      "Paths present in labels but not found among the test images:\n",
      "Paths present in labels but not found among the train images:\n"
     ]
    }
   ],
   "source": [
    "import os\n",
    "\n",
    "def find_missing_paths(label_file, image_directory):\n",
    "    missing_paths = []\n",
    "    with open(label_file, 'r', encoding='utf-8') as f:\n",
    "        for line in f:\n",
    "            # Extract the image path from each line in the label file\n",
    "            image_path = line.split()[0]  # Assuming the image path is the first item in each line\n",
    "            image_file = os.path.join(image_directory, image_path)\n",
    "            # Check if the image file exists\n",
    "            if not os.path.exists(image_file):\n",
    "                missing_paths.append(image_path)\n",
    "            elif not os.path.isfile(image_file):\n",
    "                missing_paths.append(image_path + \" (Not a file)\")\n",
    "    return missing_paths\n",
    "\n",
    "# Example usage:\n",
    "label_file = '../../Drowsey_Driver_DL_Data/combined_classification_dataset/combined_test_labels.txt'\n",
    "image_directory = '../../Drowsey_Driver_DL_Data/combined_classification_dataset/test/images'\n",
    "missing_paths = find_missing_paths(label_file, image_directory)\n",
    "print(\"Paths present in labels but not found among the test images:\")\n",
    "for path in missing_paths:\n",
    "    print(path)\n",
    "\n",
    "\n",
    "label_file = '../../Drowsey_Driver_DL_Data/combined_classification_dataset/combined_train_labels.txt'\n",
    "image_directory = '../../Drowsey_Driver_DL_Data/combined_classification_dataset/train/images'\n",
    "missing_paths = find_missing_paths(label_file, image_directory)\n",
    "print(\"Paths present in labels but not found among the train images:\")\n",
    "for path in missing_paths:\n",
    "    print(path)"
   ]
  },
  {
   "cell_type": "code",
   "execution_count": 3,
   "metadata": {},
   "outputs": [
    {
     "name": "stdout",
     "output_type": "stream",
     "text": [
      "File counts match\n",
      "File counts match\n"
     ]
    }
   ],
   "source": [
    "def compare_file_counts(image_directory, label_file):\n",
    "    image_files = os.listdir(image_directory)\n",
    "    with open(label_file, 'r', encoding='utf-8') as f:\n",
    "        label_lines = f.readlines()\n",
    "    num_images = len(image_files)\n",
    "    num_labels = len(label_lines)\n",
    "    if num_images != num_labels:\n",
    "        print(f\"Warning: Number of image files ({num_images}) in {image_directory} does not match the number of label lines ({num_labels}).\")\n",
    "    else:\n",
    "        print(f\"File counts match\")\n",
    "# Example usage:\n",
    "image_directory = '../../Drowsey_Driver_DL_Data/combined_classification_dataset/train/images'\n",
    "label_file = '../../Drowsey_Driver_DL_Data/combined_classification_dataset/combined_train_labels.txt'\n",
    "compare_file_counts(image_directory, label_file)\n",
    "\n",
    "# Example usage:\n",
    "image_directory = '../../Drowsey_Driver_DL_Data/combined_classification_dataset/test/images'\n",
    "label_file = '../../Drowsey_Driver_DL_Data/combined_classification_dataset/combined_test_labels.txt'\n",
    "compare_file_counts(image_directory, label_file)\n"
   ]
  },
  {
   "cell_type": "code",
   "execution_count": null,
   "metadata": {},
   "outputs": [],
   "source": []
  }
 ],
 "metadata": {
  "kernelspec": {
   "display_name": "base",
   "language": "python",
   "name": "python3"
  },
  "language_info": {
   "codemirror_mode": {
    "name": "ipython",
    "version": 3
   },
   "file_extension": ".py",
   "mimetype": "text/x-python",
   "name": "python",
   "nbconvert_exporter": "python",
   "pygments_lexer": "ipython3",
   "version": "3.11.8"
  }
 },
 "nbformat": 4,
 "nbformat_minor": 2
}
